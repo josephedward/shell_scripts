{
 "metadata": {
  "language_info": {
   "codemirror_mode": {
    "name": "ipython",
    "version": 3
   },
   "file_extension": ".py",
   "mimetype": "text/x-python",
   "name": "python",
   "nbconvert_exporter": "python",
   "pygments_lexer": "ipython3",
   "version": "3.7.4-final"
  },
  "orig_nbformat": 2,
  "kernelspec": {
   "name": "python37464bitbaseconda46876ee78260412780f984b0f66512a8",
   "display_name": "Python 3.7.4 64-bit ('base': conda)",
   "language": "python"
  }
 },
 "nbformat": 4,
 "nbformat_minor": 2,
 "cells": [
  {
   "source": [
    "Examples\n",
    "\n",
    "Input: \"12:30pm-12:00am\"\n",
    "\n",
    "Output: 690\n",
    "\n",
    "Input: \"1:23am-1:08am\"\n",
    "\n",
    "Output: 1425"
   ],
   "cell_type": "markdown",
   "metadata": {}
  },
  {
   "cell_type": "code",
   "execution_count": 21,
   "metadata": {},
   "outputs": [
    {
     "output_type": "stream",
     "name": "stdout",
     "text": [
      "['1', 23, 'am']\n['6', 8, 'am']\n300\n15\n405\n"
     ]
    }
   ],
   "source": [
    "Input= \"1:23am-6:08am\"\n",
    "\n",
    "halfDay=720\n",
    "wholeDay=1440\n",
    "\n",
    "times = Input.split(\"-\")\n",
    "time1=times[0].split(\":\")\n",
    "time2=times[1].split(\":\")\n",
    "secs=\"\"\n",
    "ampm=\"\"\n",
    "for x in time1[1]:\n",
    "    if x.isdigit():\n",
    "        secs+=x \n",
    "    if x.isalpha():\n",
    "        ampm+=x \n",
    "time1.remove(time1[1])\n",
    "time1.append(int(secs))\n",
    "time1.append(ampm)\n",
    "print(time1)\n",
    "secs=\"\"\n",
    "ampm=\"\"\n",
    "for x in time2[1]:\n",
    "    if x.isdigit():\n",
    "        secs+=x \n",
    "    if x.isalpha():\n",
    "        ampm+=x \n",
    "time2.remove(time2[1])\n",
    "time2.append(int(secs))\n",
    "time2.append(ampm)\n",
    "print(time2)\n",
    "\n",
    "diff1= abs(int(time1[0])-int(time2[0]))*60\n",
    "diff2= abs(time1[1]-time2[1])\n",
    "\n",
    "print(diff1)\n",
    "print(diff2)\n",
    "\n",
    "time:0\n",
    "if time1[2]==time2[2] and time1[0]>= time2[0]:\n",
    "    time = wholeDay - diff1 - diff2  \n",
    "else: \n",
    "    time = halfDay - diff1 - diff2  \n",
    "\n",
    "print(time)\n"
   ]
  },
  {
   "cell_type": "code",
   "execution_count": null,
   "metadata": {},
   "outputs": [],
   "source": []
  },
  {
   "cell_type": "code",
   "execution_count": null,
   "metadata": {},
   "outputs": [],
   "source": []
  }
 ]
}